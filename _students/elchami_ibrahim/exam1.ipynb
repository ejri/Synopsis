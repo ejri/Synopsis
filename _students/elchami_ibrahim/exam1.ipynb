{
  "nbformat": 4,
  "nbformat_minor": 0,
  "metadata": {
    "colab": {
      "name": "exam1.ipynb",
      "provenance": []
    },
    "kernelspec": {
      "name": "python3",
      "display_name": "Python 3"
    }
  },
  "cells": [
    {
      "cell_type": "markdown",
      "metadata": {
        "colab_type": "text",
        "id": "B42YV4QyuRKZ"
      },
      "source": [
        "# Instructions:\n",
        "## Please save a copy of this notebook to your google drive and answer the questions below.\n",
        "## Once completed please submit your notebook to the following [GitHub Repo](https://github.com/7-gate-academy-ml-program/Synopsis)"
      ]
    },
    {
      "cell_type": "markdown",
      "metadata": {
        "colab_type": "text",
        "id": "d8mmOkNLyoWt"
      },
      "source": [
        "### Name:"
      ]
    },
    {
      "cell_type": "markdown",
      "metadata": {
        "colab_type": "text",
        "id": "SdkchPgStYin"
      },
      "source": [
        "# 1.)  What is the difference between Classification and Regression?"
      ]
    },
    {
      "cell_type": "code",
      "execution_count": null,
      "metadata": {
        "colab_type": "text",
        "id": "0aKWEz_atmEp"
      },
      "outputs": [],
      "source": [
        "# classification is mainly for classifying data into discrete values. Examples: True/false, 0/1. yes/no\n",
        "# regression is continuous outputs/ results. when the result is a line, plane, etc...   "
      ]
    },
    {
      "cell_type": "markdown",
      "metadata": {
        "colab_type": "text",
        "id": "Ma7t_7yBtmud"
      },
      "source": [
        "# 2.) What is the Curse of Dimensionality?"
      ]
    },
    {
      "cell_type": "markdown",
      "metadata": {
        "colab_type": "text",
        "id": "9C3_8rvyyDYA"
      },
      "source": []
    },
    {
      "cell_type": "code",
      "execution_count": null,
      "metadata": {},
      "outputs": [],
      "source": []
    },
    {
      "cell_type": "markdown",
      "metadata": {
        "colab_type": "text",
        "id": "w_rFydWVyDl3"
      },
      "source": [
        "# 3.) What is Cross Validation?"
      ]
    },
    {
      "cell_type": "code",
      "execution_count": null,
      "metadata": {},
      "outputs": [],
      "source": [
        "# making sure that the traininig model will not over-fit. an example would be training the whole dataset, then using a subset for the testing. This will cause over-fitting. "
      ]
    },
    {
      "cell_type": "markdown",
      "metadata": {
        "colab_type": "text",
        "id": "ieaSLJE2tyVm"
      },
      "source": [
        "# 4.) On a high level how do Decision  Trees work?"
      ]
    },
    {
      "cell_type": "markdown",
      "metadata": {
        "colab_type": "text",
        "id": "sD6nBEWCt8ud"
      },
      "source": [
        ""
      ]
    },
    {
      "cell_type": "code",
      "execution_count": null,
      "metadata": {},
      "outputs": [],
      "source": [
        "#discretely split output from each input (node). "
      ]
    },
    {
      "cell_type": "markdown",
      "metadata": {
        "colab_type": "text",
        "id": "6akxVwD_t82G"
      },
      "source": [
        "# 5.) In regards to SVMs what is the Kernel Trick?"
      ]
    },
    {
      "cell_type": "markdown",
      "metadata": {
        "colab_type": "text",
        "id": "eDGR-lhHuKNq"
      },
      "source": [
        ""
      ]
    },
    {
      "cell_type": "code",
      "execution_count": null,
      "metadata": {},
      "outputs": [],
      "source": [
        "# projecting data onto a hyperplane to allow an easier \"separation model\" of data. Kernel is basically the projection function that the data is multiplied by to get to a suitable hyperfunction   "
      ]
    },
    {
      "cell_type": "markdown",
      "metadata": {
        "colab_type": "text",
        "id": "aeXQIik9pnC-"
      },
      "source": [
        "# 6.) For an online clothes store, what are the examples of OLTP and OLAP data? (one example each)"
      ]
    },
    {
      "cell_type": "markdown",
      "metadata": {
        "colab_type": "text",
        "id": "DmtlkL81rjY8"
      },
      "source": [
        ""
      ]
    },
    {
      "cell_type": "code",
      "execution_count": null,
      "metadata": {},
      "outputs": [],
      "source": [
        "#OLTP: map the data from a POS system into a heatmap based on IP addresses\n",
        "# OLAP: get the data from POS system, split the data based on date of purhcase or website"
      ]
    },
    {
      "cell_type": "markdown",
      "metadata": {
        "colab_type": "text",
        "id": "Wzl71E-Qrpcn"
      },
      "source": [
        "# 7.) Give example of a function that does not maintain Idempotency."
      ]
    },
    {
      "cell_type": "code",
      "execution_count": null,
      "metadata": {},
      "outputs": [],
      "source": [
        "# On/off buttons of a Polish desk calculator. Pressing the On button (green) is an idempotent operation, since it has the same effect whether done once or multiple times. Likewise, pressing Off is idempotent.\n",
        "\n",
        "# example of that is counter function. everything it is triggered, counting increaes or dercreases"
      ]
    },
    {
      "cell_type": "markdown",
      "metadata": {
        "colab_type": "text",
        "id": "_NiE2-tusl18"
      },
      "source": [
        ""
      ]
    }
  ]
}