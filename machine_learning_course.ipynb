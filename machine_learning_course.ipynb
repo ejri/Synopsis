{
 "nbformat": 4,
 "nbformat_minor": 2,
 "metadata": {
  "language_info": {
   "name": "python",
   "codemirror_mode": {
    "name": "ipython",
    "version": 3
   },
   "version": "3.7.6-final"
  },
  "orig_nbformat": 2,
  "file_extension": ".py",
  "mimetype": "text/x-python",
  "name": "python",
  "npconvert_exporter": "python",
  "pygments_lexer": "ipython3",
  "version": 3,
  "kernelspec": {
   "name": "python37464bita584b70117f8409195d55ebb2f5762e0",
   "display_name": "Python 3.7.4 64-bit"
  }
 },
 "cells": [
  {
   "cell_type": "code",
   "execution_count": null,
   "metadata": {},
   "outputs": [],
   "source": []
  },
  {
   "cell_type": "code",
   "execution_count": null,
   "metadata": {},
   "outputs": [],
   "source": [
    "# # notes:\n",
    "\n",
    "# watch: Hardvard class on visualization\n",
    "# graph: intenresting graph"
   ]
  },
  {
   "cell_type": "code",
   "execution_count": 24,
   "metadata": {},
   "outputs": [
    {
     "output_type": "stream",
     "name": "stdout",
     "text": "<class 'pandas.core.frame.DataFrame'>\nInt64Index: 100000 entries, 0 to 99999\nData columns (total 6 columns):\nsource_intensity       100000 non-null float64\nhorizontal_distance    100000 non-null float64\nvertical_distance      100000 non-null float64\nhearing_damage         100000 non-null int64\nfelt_damage            100000 non-null int64\ninsulation             100000 non-null float64\ndtypes: float64(4), int64(2)\nmemory usage: 5.3 MB\n"
    },
    {
     "output_type": "execute_result",
     "data": {
      "text/plain": "   source_intensity  horizontal_distance  vertical_distance  hearing_damage  \\\n0      1.946567e+05           706.118918         812.368143               0   \n1      8.823720e-01           268.929047         481.154338               0   \n2      9.869254e+05           615.087438         234.092880               1   \n3      1.597790e+12           376.152308         222.272373               1   \n4      2.078979e-01           434.519439         431.469844               0   \n5      1.627332e-01           509.520853         183.896046               0   \n6      1.342526e+13           476.101790         617.429614               1   \n7      5.736877e+06           164.778872         539.634499               0   \n8      8.219063e-03           776.362404         509.903841               0   \n9      2.484073e+05           726.881844         376.127460               0   \n\n   felt_damage  insulation  \n0            1    0.603576  \n1            1    0.235338  \n2            0    0.050829  \n3            0    0.308507  \n4            1    0.909739  \n5            0    0.804539  \n6            0    0.297171  \n7            1    0.858170  \n8            0    0.172946  \n9            1    0.804105  ",
      "text/html": "<div>\n<style scoped>\n    .dataframe tbody tr th:only-of-type {\n        vertical-align: middle;\n    }\n\n    .dataframe tbody tr th {\n        vertical-align: top;\n    }\n\n    .dataframe thead th {\n        text-align: right;\n    }\n</style>\n<table border=\"1\" class=\"dataframe\">\n  <thead>\n    <tr style=\"text-align: right;\">\n      <th></th>\n      <th>source_intensity</th>\n      <th>horizontal_distance</th>\n      <th>vertical_distance</th>\n      <th>hearing_damage</th>\n      <th>felt_damage</th>\n      <th>insulation</th>\n    </tr>\n  </thead>\n  <tbody>\n    <tr>\n      <th>0</th>\n      <td>1.946567e+05</td>\n      <td>706.118918</td>\n      <td>812.368143</td>\n      <td>0</td>\n      <td>1</td>\n      <td>0.603576</td>\n    </tr>\n    <tr>\n      <th>1</th>\n      <td>8.823720e-01</td>\n      <td>268.929047</td>\n      <td>481.154338</td>\n      <td>0</td>\n      <td>1</td>\n      <td>0.235338</td>\n    </tr>\n    <tr>\n      <th>2</th>\n      <td>9.869254e+05</td>\n      <td>615.087438</td>\n      <td>234.092880</td>\n      <td>1</td>\n      <td>0</td>\n      <td>0.050829</td>\n    </tr>\n    <tr>\n      <th>3</th>\n      <td>1.597790e+12</td>\n      <td>376.152308</td>\n      <td>222.272373</td>\n      <td>1</td>\n      <td>0</td>\n      <td>0.308507</td>\n    </tr>\n    <tr>\n      <th>4</th>\n      <td>2.078979e-01</td>\n      <td>434.519439</td>\n      <td>431.469844</td>\n      <td>0</td>\n      <td>1</td>\n      <td>0.909739</td>\n    </tr>\n    <tr>\n      <th>5</th>\n      <td>1.627332e-01</td>\n      <td>509.520853</td>\n      <td>183.896046</td>\n      <td>0</td>\n      <td>0</td>\n      <td>0.804539</td>\n    </tr>\n    <tr>\n      <th>6</th>\n      <td>1.342526e+13</td>\n      <td>476.101790</td>\n      <td>617.429614</td>\n      <td>1</td>\n      <td>0</td>\n      <td>0.297171</td>\n    </tr>\n    <tr>\n      <th>7</th>\n      <td>5.736877e+06</td>\n      <td>164.778872</td>\n      <td>539.634499</td>\n      <td>0</td>\n      <td>1</td>\n      <td>0.858170</td>\n    </tr>\n    <tr>\n      <th>8</th>\n      <td>8.219063e-03</td>\n      <td>776.362404</td>\n      <td>509.903841</td>\n      <td>0</td>\n      <td>0</td>\n      <td>0.172946</td>\n    </tr>\n    <tr>\n      <th>9</th>\n      <td>2.484073e+05</td>\n      <td>726.881844</td>\n      <td>376.127460</td>\n      <td>0</td>\n      <td>1</td>\n      <td>0.804105</td>\n    </tr>\n  </tbody>\n</table>\n</div>"
     },
     "metadata": {},
     "execution_count": 24
    }
   ],
   "source": [
    "import pandas as pd\n",
    "import numpy as np\n",
    "import matplotlib.pyplot as plt\n",
    "import seaborn as sns\n",
    "sns.set()\n",
    "\n",
    "d= pd.read_table(\"/Users/ibrahim/Downloads/ml_course_7venture/Synopsis/data/maneuver_report (1).tsv\", sep=(\"\\t\"), index_col=0)\n",
    "\n",
    "d.head()\n",
    "d.describe()\n",
    "\n",
    "%matplotlib inline\n",
    "#\n",
    "#d['insulation'].plot()\n",
    "#d.plot(kind='bar')\n",
    "\n",
    "#d.sort_values(['insulation', 'vertical_distance']).plot()\n",
    "\n",
    "# view sum of NaN in each Series\n",
    "d.isna().sum()\n",
    "\n",
    "# report on the series\n",
    "d.info()\n",
    "d.head(10)"
   ]
  },
  {
   "cell_type": "code",
   "execution_count": 25,
   "metadata": {},
   "outputs": [
    {
     "output_type": "execute_result",
     "data": {
      "text/plain": "0        1.946567e+05\n1        8.823720e-01\n2        9.869254e+05\n3        1.597790e+12\n4        2.078979e-01\n             ...     \n99995    1.501155e-01\n99996    8.550038e-04\n99997    1.540067e+04\n99998    4.392448e-01\n99999    6.687071e+01\nName: source_intensity, Length: 100000, dtype: float64"
     },
     "metadata": {},
     "execution_count": 25
    }
   ],
   "source": [
    "d.source_intensity"
   ]
  },
  {
   "cell_type": "code",
   "execution_count": 30,
   "metadata": {},
   "outputs": [],
   "source": [
    "x=np.array(d.source_intensity)\n",
    "\n",
    "def normalizing(data):\n",
    "    for i in range(len(data)):\n",
    "        x[i]=(x[i]-min(x))/(min(x)-max(x))\n",
    "\n",
    "# normalizing(x)\n",
    "print(x)\n"
   ]
  },
  {
   "cell_type": "code",
   "execution_count": null,
   "metadata": {},
   "outputs": [],
   "source": []
  }
 ]
}