{
 "nbformat": 4,
 "nbformat_minor": 2,
 "metadata": {
  "language_info": {
   "name": "python",
   "codemirror_mode": {
    "name": "ipython",
    "version": 3
   },
   "version": "3.7.6-final"
  },
  "orig_nbformat": 2,
  "file_extension": ".py",
  "mimetype": "text/x-python",
  "name": "python",
  "npconvert_exporter": "python",
  "pygments_lexer": "ipython3",
  "version": 3,
  "kernelspec": {
   "name": "python37464bita584b70117f8409195d55ebb2f5762e0",
   "display_name": "Python 3.7.4 64-bit"
  }
 },
 "cells": [
  {
   "cell_type": "code",
   "execution_count": null,
   "metadata": {},
   "outputs": [],
   "source": []
  },
  {
   "cell_type": "code",
   "execution_count": null,
   "metadata": {},
   "outputs": [],
   "source": [
    "# # notes:\n",
    "\n",
    "# watch: Hardvard class on visualization\n",
    "# graph: intenresting graph"
   ]
  },
  {
   "cell_type": "code",
   "execution_count": 23,
   "metadata": {},
   "outputs": [
    {
     "name": "stdout",
     "output_type": "stream",
     "text": "<class 'pandas.core.frame.DataFrame'>\nInt64Index: 100000 entries, 0 to 99999\nData columns (total 6 columns):\nsource_intensity       100000 non-null float64\nhorizontal_distance    100000 non-null float64\nvertical_distance      100000 non-null float64\nhearing_damage         100000 non-null int64\nfelt_damage            100000 non-null int64\ninsulation             100000 non-null float64\ndtypes: float64(4), int64(2)\nmemory usage: 5.3 MB\n"
    }
   ],
   "source": [
    "import pandas as pd\n",
    "import numpy as np\n",
    "import matplotlib.pyplot as plt\n",
    "import seaborn \n",
    "\n",
    "d= pd.read_table(\"/Users/ibrahim/Downloads/ml_course_7venture/Synopsis/data/maneuver_report (1).tsv\", sep=(\"\\t\"), index_col=0)\n",
    "\n",
    "d.head()\n",
    "d.describe()\n",
    "\n",
    "%matplotlib inline\n",
    "#\n",
    "#d['insulation'].plot()\n",
    "#d.plot(kind='bar')\n",
    "\n",
    "#d.sort_values(['insulation', 'vertical_distance']).plot()\n",
    "\n",
    "# view sum of NaN in each Series\n",
    "d.isna().sum()\n",
    "\n",
    "#\n",
    "d.info()"
   ]
  },
  {
   "cell_type": "code",
   "execution_count": null,
   "metadata": {},
   "outputs": [],
   "source": []
  }
 ]
}