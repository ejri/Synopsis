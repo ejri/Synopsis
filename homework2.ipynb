{
  "nbformat": 4,
  "nbformat_minor": 0,
  "metadata": {
    "colab": {
      "name": "L11 Data Preprocessing - Questions.ipynb",
      "provenance": [],
      "collapsed_sections": []
    },
    "kernelspec": {
      "name": "python3",
      "display_name": "Python 3"
    }
  },
  "cells": [
    {
      "cell_type": "markdown",
      "metadata": {
        "id": "M8I0cj-q1-YD",
        "colab_type": "text"
      },
      "source": [
        "# Data Preprocessing in Python"
      ]
    },
    {
      "cell_type": "markdown",
      "metadata": {
        "id": "3UFjGF8uF1ES",
        "colab_type": "text"
      },
      "source": [
        "## Importing Dependencies and uploading our data"
      ]
    },
    {
      "cell_type": "code",
      "metadata": {
        "id": "fT2K4dYw16ds",
        "colab_type": "code",
        "colab": {}
      },
      "source": [
        "import pandas as pd\n",
        "import numpy as np\n",
        "from google.colab import files\n",
        "import math"
      ],
      "execution_count": 0,
      "outputs": []
    },
    {
      "cell_type": "code",
      "metadata": {
        "id": "IGO_MPvnCGLR",
        "colab_type": "code",
        "outputId": "3d2c734b-e2f8-491f-a680-6ac2becee232",
        "colab": {
          "resources": {
            "http://localhost:8080/nbextensions/google.colab/files.js": {
              "data": "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",
              "ok": true,
              "headers": [
                [
                  "content-type",
                  "application/javascript"
                ]
              ],
              "status": 200,
              "status_text": ""
            }
          },
          "base_uri": "https://localhost:8080/",
          "height": 40
        }
      },
      "source": [
        "data = files.upload()"
      ],
      "execution_count": 0,
      "outputs": [
        {
          "output_type": "display_data",
          "data": {
            "text/html": [
              "\n",
              "     <input type=\"file\" id=\"files-27433f3d-966a-4737-8954-87a1728711ac\" name=\"files[]\" multiple disabled />\n",
              "     <output id=\"result-27433f3d-966a-4737-8954-87a1728711ac\">\n",
              "      Upload widget is only available when the cell has been executed in the\n",
              "      current browser session. Please rerun this cell to enable.\n",
              "      </output>\n",
              "      <script src=\"/nbextensions/google.colab/files.js\"></script> "
            ],
            "text/plain": [
              "<IPython.core.display.HTML object>"
            ]
          },
          "metadata": {
            "tags": []
          }
        }
      ]
    },
    {
      "cell_type": "markdown",
      "metadata": {
        "id": "i5ZhnjkiGlDp",
        "colab_type": "text"
      },
      "source": [
        "### Sanity check to ensure our data was successfully uploaded"
      ]
    },
    {
      "cell_type": "code",
      "metadata": {
        "id": "JYYWV93t2TH7",
        "colab_type": "code",
        "outputId": "bf672183-3680-4864-e0ad-5ea83866a990",
        "colab": {
          "base_uri": "https://localhost:8080/",
          "height": 34
        }
      },
      "source": [
        "!ls"
      ],
      "execution_count": 2,
      "outputs": [
        {
          "output_type": "stream",
          "text": [
            "mock_data_preprocessing.csv  sample_data\n"
          ],
          "name": "stdout"
        }
      ]
    },
    {
      "cell_type": "markdown",
      "metadata": {
        "id": "5UlFTyDSJqMv",
        "colab_type": "text"
      },
      "source": [
        "## Data Exploration"
      ]
    },
    {
      "cell_type": "code",
      "metadata": {
        "id": "aDU68r8vBq2Y",
        "colab_type": "code",
        "colab": {}
      },
      "source": [
        "dataset = pd.read_csv('mock_data_preprocessing.csv')"
      ],
      "execution_count": 0,
      "outputs": []
    },
    {
      "cell_type": "code",
      "metadata": {
        "id": "rY-wOxkFDRgn",
        "colab_type": "code",
        "outputId": "c485afbf-b750-4f05-a3a6-de9099597326",
        "colab": {
          "base_uri": "https://localhost:8080/",
          "height": 328
        }
      },
      "source": [
        "dataset.head(9)"
      ],
      "execution_count": 4,
      "outputs": [
        {
          "output_type": "execute_result",
          "data": {
            "text/html": [
              "<div>\n",
              "<style scoped>\n",
              "    .dataframe tbody tr th:only-of-type {\n",
              "        vertical-align: middle;\n",
              "    }\n",
              "\n",
              "    .dataframe tbody tr th {\n",
              "        vertical-align: top;\n",
              "    }\n",
              "\n",
              "    .dataframe thead th {\n",
              "        text-align: right;\n",
              "    }\n",
              "</style>\n",
              "<table border=\"1\" class=\"dataframe\">\n",
              "  <thead>\n",
              "    <tr style=\"text-align: right;\">\n",
              "      <th></th>\n",
              "      <th>Id</th>\n",
              "      <th>Age</th>\n",
              "      <th>Siblings</th>\n",
              "      <th>Height</th>\n",
              "      <th>Weight</th>\n",
              "      <th>BMI</th>\n",
              "      <th>Vehicle</th>\n",
              "      <th>Travel Distance</th>\n",
              "      <th>Education</th>\n",
              "      <th>Salary</th>\n",
              "    </tr>\n",
              "  </thead>\n",
              "  <tbody>\n",
              "    <tr>\n",
              "      <th>0</th>\n",
              "      <td>x1</td>\n",
              "      <td>23</td>\n",
              "      <td>None</td>\n",
              "      <td>5’5</td>\n",
              "      <td>140lbs</td>\n",
              "      <td>23.3</td>\n",
              "      <td>Car</td>\n",
              "      <td>60km</td>\n",
              "      <td>Bachelor’s</td>\n",
              "      <td>$60,000</td>\n",
              "    </tr>\n",
              "    <tr>\n",
              "      <th>1</th>\n",
              "      <td>x2</td>\n",
              "      <td>20</td>\n",
              "      <td>2</td>\n",
              "      <td>6’0</td>\n",
              "      <td>175lbs</td>\n",
              "      <td>23.7</td>\n",
              "      <td>Bicycle</td>\n",
              "      <td>20km</td>\n",
              "      <td>High-School</td>\n",
              "      <td>$20,000</td>\n",
              "    </tr>\n",
              "    <tr>\n",
              "      <th>2</th>\n",
              "      <td>x3</td>\n",
              "      <td>40</td>\n",
              "      <td>1</td>\n",
              "      <td>4’10</td>\n",
              "      <td>100lbs</td>\n",
              "      <td>999.0</td>\n",
              "      <td>Bus</td>\n",
              "      <td>40km</td>\n",
              "      <td>Master’s</td>\n",
              "      <td>$75,000</td>\n",
              "    </tr>\n",
              "    <tr>\n",
              "      <th>3</th>\n",
              "      <td>x4</td>\n",
              "      <td>21</td>\n",
              "      <td>6</td>\n",
              "      <td>0</td>\n",
              "      <td>130lbs</td>\n",
              "      <td>23.8</td>\n",
              "      <td>Taxi</td>\n",
              "      <td>50km</td>\n",
              "      <td>High-School</td>\n",
              "      <td>$2,000,000</td>\n",
              "    </tr>\n",
              "    <tr>\n",
              "      <th>4</th>\n",
              "      <td>x5</td>\n",
              "      <td>42</td>\n",
              "      <td>0</td>\n",
              "      <td>5’8</td>\n",
              "      <td>180</td>\n",
              "      <td>27.4</td>\n",
              "      <td>Bus</td>\n",
              "      <td>35km</td>\n",
              "      <td>Ph.D.</td>\n",
              "      <td>$80,000</td>\n",
              "    </tr>\n",
              "    <tr>\n",
              "      <th>5</th>\n",
              "      <td>x5</td>\n",
              "      <td>42</td>\n",
              "      <td>0</td>\n",
              "      <td>5’8</td>\n",
              "      <td>180</td>\n",
              "      <td>27.4</td>\n",
              "      <td>Bus</td>\n",
              "      <td>35km</td>\n",
              "      <td>Ph.D.</td>\n",
              "      <td>$80,000</td>\n",
              "    </tr>\n",
              "    <tr>\n",
              "      <th>6</th>\n",
              "      <td>x1</td>\n",
              "      <td>23</td>\n",
              "      <td>None</td>\n",
              "      <td>5’5</td>\n",
              "      <td>140lbs</td>\n",
              "      <td>23.3</td>\n",
              "      <td>Car</td>\n",
              "      <td>60km</td>\n",
              "      <td>Bachelor’s</td>\n",
              "      <td>$60,000</td>\n",
              "    </tr>\n",
              "    <tr>\n",
              "      <th>7</th>\n",
              "      <td>x7</td>\n",
              "      <td>24</td>\n",
              "      <td>1</td>\n",
              "      <td>5’8</td>\n",
              "      <td>155lbs</td>\n",
              "      <td>23.6</td>\n",
              "      <td>Foot</td>\n",
              "      <td>3km</td>\n",
              "      <td>Bachelor’s</td>\n",
              "      <td>$100,000</td>\n",
              "    </tr>\n",
              "    <tr>\n",
              "      <th>8</th>\n",
              "      <td>x8</td>\n",
              "      <td>35</td>\n",
              "      <td>4</td>\n",
              "      <td>5’3</td>\n",
              "      <td>100lbs</td>\n",
              "      <td>17.7</td>\n",
              "      <td>Bus</td>\n",
              "      <td>15km</td>\n",
              "      <td>Master’s</td>\n",
              "      <td>$50,000</td>\n",
              "    </tr>\n",
              "  </tbody>\n",
              "</table>\n",
              "</div>"
            ],
            "text/plain": [
              "   Id  Age Siblings Height  ...  Vehicle  Travel Distance    Education      Salary\n",
              "0  x1   23     None    5’5  ...      Car             60km   Bachelor’s     $60,000\n",
              "1  x2   20        2    6’0  ...  Bicycle             20km  High-School     $20,000\n",
              "2  x3   40        1   4’10  ...      Bus             40km     Master’s     $75,000\n",
              "3  x4   21        6      0  ...     Taxi             50km  High-School  $2,000,000\n",
              "4  x5   42        0    5’8  ...      Bus             35km        Ph.D.     $80,000\n",
              "5  x5   42        0    5’8  ...      Bus             35km        Ph.D.     $80,000\n",
              "6  x1   23     None    5’5  ...      Car             60km   Bachelor’s     $60,000\n",
              "7  x7   24        1    5’8  ...     Foot              3km   Bachelor’s    $100,000\n",
              "8  x8   35        4    5’3  ...      Bus             15km     Master’s     $50,000\n",
              "\n",
              "[9 rows x 10 columns]"
            ]
          },
          "metadata": {
            "tags": []
          },
          "execution_count": 4
        }
      ]
    },
    {
      "cell_type": "markdown",
      "metadata": {
        "id": "zmNbxdoaJ-q8",
        "colab_type": "text"
      },
      "source": [
        "### Note:\n",
        ".describe() is only showing us the Age and BMI columns because they are the only columns with only numbers in them. This is a sign that all the other columns will need to be processed to some degree as well."
      ]
    },
    {
      "cell_type": "code",
      "metadata": {
        "id": "m2YW1sX9DWDI",
        "colab_type": "code",
        "outputId": "5c1ba37b-d17e-46c8-d66f-8f8afd607944",
        "colab": {
          "base_uri": "https://localhost:8080/",
          "height": 374
        }
      },
      "source": [
        "print(dataset.describe())\n",
        "print('============================')\n",
        "print(dataset.dtypes)"
      ],
      "execution_count": 5,
      "outputs": [
        {
          "output_type": "stream",
          "text": [
            "             Age         BMI\n",
            "count   9.000000    9.000000\n",
            "mean   30.000000  132.133333\n",
            "std     9.539392  325.087242\n",
            "min    20.000000   17.700000\n",
            "25%    23.000000   23.300000\n",
            "50%    24.000000   23.700000\n",
            "75%    40.000000   27.400000\n",
            "max    42.000000  999.000000\n",
            "============================\n",
            "Id                  object\n",
            "Age                  int64\n",
            "Siblings            object\n",
            "Height              object\n",
            "Weight              object\n",
            "BMI                float64\n",
            "Vehicle             object\n",
            "Travel Distance     object\n",
            "Education           object\n",
            "Salary              object\n",
            "dtype: object\n"
          ],
          "name": "stdout"
        }
      ]
    },
    {
      "cell_type": "markdown",
      "metadata": {
        "id": "iaxqG5MyLEmS",
        "colab_type": "text"
      },
      "source": [
        "## Data Preprocessing"
      ]
    },
    {
      "cell_type": "markdown",
      "metadata": {
        "id": "pu-OwFFwLwQ3",
        "colab_type": "text"
      },
      "source": [
        "### Duplicates\n",
        "\n",
        "To reduce the amount of computation required to clean the data we will first remove any existing duplicates.\n",
        "\n",
        "**TODO**\n",
        "\n",
        "1.) Check if there are any duplicate rows\n",
        "\n",
        "2.) Remove any duplicate rows\n",
        "\n",
        "**Note:** Make sure to keep one copy of any duplicates found in the dataset"
      ]
    },
    {
      "cell_type": "code",
      "metadata": {
        "id": "SX2BI0tJTj5H",
        "colab_type": "code",
        "colab": {}
      },
      "source": [
        "data = dataset.drop_duplicates()\n"
      ],
      "execution_count": 0,
      "outputs": []
    },
    {
      "cell_type": "markdown",
      "metadata": {
        "id": "WBwOUt5iLT_R",
        "colab_type": "text"
      },
      "source": [
        "### Age\n",
        "\n",
        "In order to prepare our data for training we will normalize all our data to be between 0 and 1.\n",
        "\n",
        "**Note:** When normalizing data only look at the values of the feature/column being normalized\n",
        "\n",
        "**TODO**\n",
        "\n",
        "1.) Find the minimum age\n",
        "\n",
        "2.) Find the maximum age\n",
        "\n",
        "3.) Normalize all the age values\n",
        "\n",
        "**Note**\n",
        "\n",
        "The normalize formula is as follows:\n",
        "\n",
        "$$ X_{new} = \\frac{X - X_{min}}  {X_{max} - X_{min}}$$\n",
        "\n"
      ]
    },
    {
      "cell_type": "code",
      "metadata": {
        "id": "sphmy8AgqEhR",
        "colab_type": "code",
        "colab": {
          "base_uri": "https://localhost:8080/",
          "height": 71
        },
        "outputId": "2df0e9e7-7bac-485e-9eca-0b6a717e847f"
      },
      "source": [
        "def normi(x):\n",
        "  x_min=min(x)\n",
        "  x_max=max(x)\n",
        "  x_nomralized=[]\n",
        "  for i in range(len(x)):\n",
        "    y=(x[i]-x_min)/(x_max-x_min)\n",
        "    x_nomralized.append(y)\n",
        "  return x_nomralized\n",
        "age=np.array(data.Age)\n",
        "print(age)\n",
        "normalized_age= normi(age)\n",
        "print(normalized_age)"
      ],
      "execution_count": 180,
      "outputs": [
        {
          "output_type": "stream",
          "text": [
            "[23 20 40 21 42 24 35]\n",
            "[0.13636363636363635, 0.0, 0.9090909090909091, 0.045454545454545456, 1.0, 0.18181818181818182, 0.6818181818181818]\n"
          ],
          "name": "stdout"
        }
      ]
    },
    {
      "cell_type": "markdown",
      "metadata": {
        "id": "mLKy9pnQLWCx",
        "colab_type": "text"
      },
      "source": [
        "### Siblings\n",
        "\n",
        "Under Siblings we notice that we have a Value of \"None\". This could be due to an error or it could mean that they have no siblings. Either way we need to convert this to a number.\n",
        "\n",
        "**Todo**\n",
        "\n",
        "1.) Replace any None values in Siblings with 0\n",
        "\n",
        "2.) Find the minimum value\n",
        "\n",
        "3.) Find the maximum value\n",
        "\n",
        "4.) Normalize the siblings values\n",
        "\n",
        "**Note**\n",
        "\n",
        "Only numerical data types(ints, floats) can be normalized."
      ]
    },
    {
      "cell_type": "code",
      "metadata": {
        "id": "MgFBA9yNxGl4",
        "colab_type": "code",
        "outputId": "9eb508f0-297e-4f12-9cd3-1d5a85caeeda",
        "colab": {
          "base_uri": "https://localhost:8080/",
          "height": 156
        }
      },
      "source": [
        "\n",
        "siblings=data['Siblings']\n",
        "siblings.replace('None', 0, inplace=True)\n",
        "data.head(10)\n",
        "\n",
        "siblings_array=np.array(siblings)\n",
        "y=[int(k) for k in siblings_array]\n",
        "  \n",
        "print(y)\n",
        "normalized_siblings= normi(y)\n",
        "print(normalized_siblings)"
      ],
      "execution_count": 181,
      "outputs": [
        {
          "output_type": "stream",
          "text": [
            "[0, 2, 1, 6, 0, 1, 4]\n",
            "[0.0, 0.3333333333333333, 0.16666666666666666, 1.0, 0.0, 0.16666666666666666, 0.6666666666666666]\n"
          ],
          "name": "stdout"
        },
        {
          "output_type": "stream",
          "text": [
            "/usr/local/lib/python3.6/dist-packages/pandas/core/generic.py:6786: SettingWithCopyWarning: \n",
            "A value is trying to be set on a copy of a slice from a DataFrame\n",
            "\n",
            "See the caveats in the documentation: http://pandas.pydata.org/pandas-docs/stable/user_guide/indexing.html#returning-a-view-versus-a-copy\n",
            "  self._update_inplace(new_data)\n"
          ],
          "name": "stderr"
        }
      ]
    },
    {
      "cell_type": "markdown",
      "metadata": {
        "id": "ZmnyHTVeLc3s",
        "colab_type": "text"
      },
      "source": [
        "### Height, Weight and BMI\n",
        "The BMI column allows us to deal with these three columns at the same time. We can use the following formula to fix any missing values as well:\n",
        "\n",
        "$$BMI = \\frac{703 * Weight_{pounds}}  {Height_{inches}^2} $$\n",
        "\n",
        "**TODO**\n",
        "\n",
        "1.) Convert the Height values to inches\n",
        "\n",
        "2.) Remove 'lbs' from the Weight values\n",
        "\n",
        "3.) Find and fix the outlier in the BMI column\n",
        "\n",
        "4.) Find and fix the 0 value in Height\n",
        "\n",
        "5.) Normalize all three columns"
      ]
    },
    {
      "cell_type": "code",
      "metadata": {
        "id": "XrZ3VIsa9p69",
        "colab_type": "code",
        "colab": {
          "base_uri": "https://localhost:8080/",
          "height": 122
        },
        "outputId": "99df3f6c-ebf8-4c4f-acb1-8644605b4641"
      },
      "source": [
        "my_str = 'lbs112 lbs'\n",
        "my_str.rstrip('lbsxbdiosjdf ')\n",
        "\n",
        "\n",
        "data.head(10)\n",
        "height=np.array(data.Height)\n",
        "weight=np.array(data.Weight)\n",
        "print(height)\n",
        "print(weight)\n",
        "\n",
        "\n",
        "# height_ft = height[0].split(\"’\")[0]\n",
        "# print(height_ft)\n",
        "# height_inch = height[0].split(\"'\")[1].split(\"\\\"\")[0]\n",
        "\n",
        "height_inches=[]\n",
        "for x in height:\n",
        "  if x=='0':\n",
        "    x = '0’0'\n",
        "  height_ft = x.split(\"’\")[0]\n",
        "  height_inch = x.split(\"’\")[1] #.split(\"\\\"\")[0]\n",
        "  x= 12*int(height_ft) + int(height_inch)\n",
        "  height_inches.append(x)\n",
        "print (height_inches)\n",
        "\n",
        "weight_lbs=[]\n",
        "for x in weight:\n",
        "  number= x.split('lbs')[0]\n",
        "  weight_lbs.append(int(number))\n",
        "\n",
        "print (weight_lbs)\n",
        "\n",
        "\n",
        "\n",
        "BMI=[]\n",
        "for i in range(len(weight_lbs)):\n",
        "  if height_inches[i]==0:\n",
        "    y=0\n",
        "    \n",
        "  else:\n",
        "    y= (703*weight_lbs[i])/(height_inches[i]**2)\n",
        "  BMI.append(y)\n",
        "\n",
        "print(BMI)\n",
        "\n",
        "normalized_height=normi(height_inches)\n",
        "normalized_weight=normi(weight_lbs)\n",
        "normalized_BMI=normi(BMI)\n",
        "\n"
      ],
      "execution_count": 182,
      "outputs": [
        {
          "output_type": "stream",
          "text": [
            "['5’5' '6’0' '4’10' '0' '5’8' '5’8' '5’3']\n",
            "['140lbs' '175lbs' '100lbs' '130lbs' '180' '155lbs' '100lbs']\n",
            "[65, 72, 58, 0, 68, 68, 63]\n",
            "[140, 175, 100, 130, 180, 155, 100]\n",
            "[23.294674556213018, 23.73167438271605, 20.897740784780023, 0, 27.3659169550173, 23.565095155709344, 17.712270093222475]\n"
          ],
          "name": "stdout"
        }
      ]
    },
    {
      "cell_type": "markdown",
      "metadata": {
        "id": "_buTNCh2Mmrp",
        "colab_type": "text"
      },
      "source": [
        "### Vehicle\n",
        "The entries in the Vehicle column each have text representing that cell's value. Since ML models require numerical data to work, we will need to encode the categorical values into a numerical form. One-Hot encoding is a popular way of dealing with categorical data.\n",
        "\n",
        "One-Hot encoding works by creating multiple boolean variables and assigning each variable to one category.\n",
        "\n",
        "**ex.** If our categories were Cat, Dog, Bird. We can encode them as followed: Cat = 1 0 0,  Dog = 0 1 0, Bird = 0 0 1\n",
        "<br>\n",
        "\n",
        "**TODO**\n",
        "\n",
        "1.) Create a copy of the Vehicle column\n",
        "\n",
        "2.) Convert the copy into a One-Hot representation\n",
        "\n",
        "3.) Delete the original Vehicle column\n",
        "\n",
        "4.) Add the One-Hot encoded representation back into the dataset"
      ]
    },
    {
      "cell_type": "code",
      "metadata": {
        "id": "Z2yEf1rmB7uC",
        "colab_type": "code",
        "colab": {
          "base_uri": "https://localhost:8080/",
          "height": 473
        },
        "outputId": "477075c5-4193-437f-ae52-84c34f7de8b4"
      },
      "source": [
        "vehicle= (data.Vehicle).copy()\n",
        "vehicle.head(10)\n",
        "\n",
        "k=[]\n",
        "for x in vehicle:\n",
        "  if x == 'Car':\n",
        "    x = '1 0 0 0 0'\n",
        "  if x == 'Bicycle':\n",
        "    x= '0 1 0 0 0'\n",
        "  if x== 'Bus':\n",
        "    x= '0 0 1 0 0'\n",
        "  if x == 'Taxi':\n",
        "    x = '0 0 0 1 0'\n",
        "  if x == 'Foot':\n",
        "    x = '0 0 0 0 1'\n",
        "  k.append(x)\n",
        "print (k)\n",
        "\n",
        "data.drop(columns='Vehicle', inplace=True)\n",
        "data['Vehicle']=k\n",
        "data.head(10)"
      ],
      "execution_count": 183,
      "outputs": [
        {
          "output_type": "stream",
          "text": [
            "['1 0 0 0 0', '0 1 0 0 0', '0 0 1 0 0', '0 0 0 1 0', '0 0 1 0 0', '0 0 0 0 1', '0 0 1 0 0']\n"
          ],
          "name": "stdout"
        },
        {
          "output_type": "stream",
          "text": [
            "/usr/local/lib/python3.6/dist-packages/pandas/core/frame.py:4117: SettingWithCopyWarning: \n",
            "A value is trying to be set on a copy of a slice from a DataFrame\n",
            "\n",
            "See the caveats in the documentation: http://pandas.pydata.org/pandas-docs/stable/user_guide/indexing.html#returning-a-view-versus-a-copy\n",
            "  errors=errors,\n",
            "/usr/local/lib/python3.6/dist-packages/ipykernel_launcher.py:20: SettingWithCopyWarning: \n",
            "A value is trying to be set on a copy of a slice from a DataFrame.\n",
            "Try using .loc[row_indexer,col_indexer] = value instead\n",
            "\n",
            "See the caveats in the documentation: http://pandas.pydata.org/pandas-docs/stable/user_guide/indexing.html#returning-a-view-versus-a-copy\n"
          ],
          "name": "stderr"
        },
        {
          "output_type": "execute_result",
          "data": {
            "text/html": [
              "<div>\n",
              "<style scoped>\n",
              "    .dataframe tbody tr th:only-of-type {\n",
              "        vertical-align: middle;\n",
              "    }\n",
              "\n",
              "    .dataframe tbody tr th {\n",
              "        vertical-align: top;\n",
              "    }\n",
              "\n",
              "    .dataframe thead th {\n",
              "        text-align: right;\n",
              "    }\n",
              "</style>\n",
              "<table border=\"1\" class=\"dataframe\">\n",
              "  <thead>\n",
              "    <tr style=\"text-align: right;\">\n",
              "      <th></th>\n",
              "      <th>Id</th>\n",
              "      <th>Age</th>\n",
              "      <th>Siblings</th>\n",
              "      <th>Height</th>\n",
              "      <th>Weight</th>\n",
              "      <th>BMI</th>\n",
              "      <th>Travel Distance</th>\n",
              "      <th>Education</th>\n",
              "      <th>Salary</th>\n",
              "      <th>Vehicle</th>\n",
              "    </tr>\n",
              "  </thead>\n",
              "  <tbody>\n",
              "    <tr>\n",
              "      <th>0</th>\n",
              "      <td>x1</td>\n",
              "      <td>23</td>\n",
              "      <td>0</td>\n",
              "      <td>5’5</td>\n",
              "      <td>140lbs</td>\n",
              "      <td>23.3</td>\n",
              "      <td>60km</td>\n",
              "      <td>Bachelor’s</td>\n",
              "      <td>$60,000</td>\n",
              "      <td>1 0 0 0 0</td>\n",
              "    </tr>\n",
              "    <tr>\n",
              "      <th>1</th>\n",
              "      <td>x2</td>\n",
              "      <td>20</td>\n",
              "      <td>2</td>\n",
              "      <td>6’0</td>\n",
              "      <td>175lbs</td>\n",
              "      <td>23.7</td>\n",
              "      <td>20km</td>\n",
              "      <td>High-School</td>\n",
              "      <td>$20,000</td>\n",
              "      <td>0 1 0 0 0</td>\n",
              "    </tr>\n",
              "    <tr>\n",
              "      <th>2</th>\n",
              "      <td>x3</td>\n",
              "      <td>40</td>\n",
              "      <td>1</td>\n",
              "      <td>4’10</td>\n",
              "      <td>100lbs</td>\n",
              "      <td>999.0</td>\n",
              "      <td>40km</td>\n",
              "      <td>Master’s</td>\n",
              "      <td>$75,000</td>\n",
              "      <td>0 0 1 0 0</td>\n",
              "    </tr>\n",
              "    <tr>\n",
              "      <th>3</th>\n",
              "      <td>x4</td>\n",
              "      <td>21</td>\n",
              "      <td>6</td>\n",
              "      <td>0</td>\n",
              "      <td>130lbs</td>\n",
              "      <td>23.8</td>\n",
              "      <td>50km</td>\n",
              "      <td>High-School</td>\n",
              "      <td>$2,000,000</td>\n",
              "      <td>0 0 0 1 0</td>\n",
              "    </tr>\n",
              "    <tr>\n",
              "      <th>4</th>\n",
              "      <td>x5</td>\n",
              "      <td>42</td>\n",
              "      <td>0</td>\n",
              "      <td>5’8</td>\n",
              "      <td>180</td>\n",
              "      <td>27.4</td>\n",
              "      <td>35km</td>\n",
              "      <td>Ph.D.</td>\n",
              "      <td>$80,000</td>\n",
              "      <td>0 0 1 0 0</td>\n",
              "    </tr>\n",
              "    <tr>\n",
              "      <th>7</th>\n",
              "      <td>x7</td>\n",
              "      <td>24</td>\n",
              "      <td>1</td>\n",
              "      <td>5’8</td>\n",
              "      <td>155lbs</td>\n",
              "      <td>23.6</td>\n",
              "      <td>3km</td>\n",
              "      <td>Bachelor’s</td>\n",
              "      <td>$100,000</td>\n",
              "      <td>0 0 0 0 1</td>\n",
              "    </tr>\n",
              "    <tr>\n",
              "      <th>8</th>\n",
              "      <td>x8</td>\n",
              "      <td>35</td>\n",
              "      <td>4</td>\n",
              "      <td>5’3</td>\n",
              "      <td>100lbs</td>\n",
              "      <td>17.7</td>\n",
              "      <td>15km</td>\n",
              "      <td>Master’s</td>\n",
              "      <td>$50,000</td>\n",
              "      <td>0 0 1 0 0</td>\n",
              "    </tr>\n",
              "  </tbody>\n",
              "</table>\n",
              "</div>"
            ],
            "text/plain": [
              "   Id  Age Siblings Height  ... Travel Distance    Education      Salary    Vehicle\n",
              "0  x1   23        0    5’5  ...            60km   Bachelor’s     $60,000  1 0 0 0 0\n",
              "1  x2   20        2    6’0  ...            20km  High-School     $20,000  0 1 0 0 0\n",
              "2  x3   40        1   4’10  ...            40km     Master’s     $75,000  0 0 1 0 0\n",
              "3  x4   21        6      0  ...            50km  High-School  $2,000,000  0 0 0 1 0\n",
              "4  x5   42        0    5’8  ...            35km        Ph.D.     $80,000  0 0 1 0 0\n",
              "7  x7   24        1    5’8  ...             3km   Bachelor’s    $100,000  0 0 0 0 1\n",
              "8  x8   35        4    5’3  ...            15km     Master’s     $50,000  0 0 1 0 0\n",
              "\n",
              "[7 rows x 10 columns]"
            ]
          },
          "metadata": {
            "tags": []
          },
          "execution_count": 183
        }
      ]
    },
    {
      "cell_type": "markdown",
      "metadata": {
        "id": "HxhG80plMq8Z",
        "colab_type": "text"
      },
      "source": [
        "### Travel Distance\n",
        "\n",
        "Just as with Weights column, we need to remove the units and normalize the values.\n",
        "\n",
        "**TODO**\n",
        "\n",
        "1.) Remove the km unit from all the values in the Travel Distance column\n",
        "\n",
        "2.) Normalize all the values in the columns"
      ]
    },
    {
      "cell_type": "code",
      "metadata": {
        "id": "OKzpOYCmHkU6",
        "colab_type": "code",
        "colab": {
          "base_uri": "https://localhost:8080/",
          "height": 34
        },
        "outputId": "c280252b-1215-4fcc-c710-2a7f6c140851"
      },
      "source": [
        "distance=data['Travel Distance']\n",
        "\n",
        "distance_no_unit=[]\n",
        "for x in distance:\n",
        "  number= x.split('km')[0]\n",
        "  distance_no_unit.append(int(number))\n",
        "\n",
        "print (distance_no_unit)\n",
        "\n",
        "normalized_distance=normi(distance_no_unit)"
      ],
      "execution_count": 184,
      "outputs": [
        {
          "output_type": "stream",
          "text": [
            "[60, 20, 40, 50, 35, 3, 15]\n"
          ],
          "name": "stdout"
        }
      ]
    },
    {
      "cell_type": "markdown",
      "metadata": {
        "id": "V2MJorQoMuTs",
        "colab_type": "text"
      },
      "source": [
        "### Education\n",
        "\n",
        "Once again we are dealing with text values in the Education column. This time though since the categories can be ordered,  we are dealing with ordinal data instead. This allows us to encode the data differently in order to limit the number of columns in our dataset.\n",
        "\n",
        "Instead of using One-Hot encoding which will have us add k-1 columns to our dataset, we will encode all the categories in one column.\n",
        "\n",
        "**Ex.:** If our data was: Beginner, Intermediate, Advance. Instead of encoding as One-Hot, we can encode it as followed: Beginner = 0, Intermediate = 1, Advance = 2.\n",
        "\n",
        "**Note:** There are still issues with encoding data like this as we are saying that the distance between each category is the same. Depending on the data this may not be true.\n",
        "\n",
        " **TODO**\n",
        " \n",
        " 1.) Create a mapping from category to number. Keep in mind that since we are dealing with ordinal data we want to preserve the order of the values after the encoding\n",
        " \n",
        " 2.) Use the mapping to convert the values in the Education column into numbers\n",
        " \n",
        " 3.) Normalize the values"
      ]
    },
    {
      "cell_type": "code",
      "metadata": {
        "id": "X5en3tqcJaqv",
        "colab_type": "code",
        "colab": {
          "base_uri": "https://localhost:8080/",
          "height": 34
        },
        "outputId": "c4daa697-f475-4173-b501-0c20a0137526"
      },
      "source": [
        "education=data.Education\n",
        "\n",
        "education.head(10)\n",
        "\n",
        "\n",
        "education_level=[]\n",
        "for x in education:\n",
        "  if x == 'Bachelor’s':\n",
        "    x = '1'\n",
        "  if x == 'High-School':\n",
        "    x= '0'\n",
        "  if x== 'Master’s':\n",
        "    x= '2'\n",
        "  if x == 'Ph.D.':\n",
        "    x = '3'\n",
        "  education_level.append(int(x))\n",
        "print (education_level)\n",
        "\n",
        "normalized_education=normi(education_level)"
      ],
      "execution_count": 185,
      "outputs": [
        {
          "output_type": "stream",
          "text": [
            "[1, 0, 2, 0, 3, 1, 2]\n"
          ],
          "name": "stdout"
        }
      ]
    },
    {
      "cell_type": "markdown",
      "metadata": {
        "id": "ceYIolV6MyKT",
        "colab_type": "text"
      },
      "source": [
        "### Salary\n",
        "The values in the Salary column contain special characters that we need to remove in order for our models to work\n",
        "\n",
        "**TODO**\n",
        "\n",
        "1.) Remove all the special characters\n",
        "\n",
        "2.) Deal with any outliers\n",
        "\n",
        "3.) Normalize the data"
      ]
    },
    {
      "cell_type": "code",
      "metadata": {
        "id": "hTWxPuZcD41c",
        "colab_type": "code",
        "colab": {
          "base_uri": "https://localhost:8080/",
          "height": 34
        },
        "outputId": "f6232fb9-4c42-4979-f110-89bce859380a"
      },
      "source": [
        "salary=data.Salary\n",
        "salary.head()\n",
        "\n",
        "salary_no_unit=[]\n",
        "for x in salary:\n",
        "  if x=='0':\n",
        "    x = '0’0'\n",
        "  number = x.split(\",\")[:]\n",
        "  x= ''.join(number)\n",
        "  number_no_unit= x.split(\"$\")[1]\n",
        "  salary_no_unit.append(int(number_no_unit))\n",
        "print (salary_no_unit)\n",
        "\n",
        "normalized_salary=normi(salary_no_unit)"
      ],
      "execution_count": 186,
      "outputs": [
        {
          "output_type": "stream",
          "text": [
            "[60000, 20000, 75000, 2000000, 80000, 100000, 50000]\n"
          ],
          "name": "stdout"
        }
      ]
    },
    {
      "cell_type": "markdown",
      "metadata": {
        "id": "XV9cttCUPb1X",
        "colab_type": "text"
      },
      "source": [
        "## Our Clean Data"
      ]
    },
    {
      "cell_type": "code",
      "metadata": {
        "id": "vw3kRif_aIrD",
        "colab_type": "code",
        "colab": {
          "base_uri": "https://localhost:8080/",
          "height": 266
        },
        "outputId": "4078de10-b2aa-4260-8063-0950ff8bcca7"
      },
      "source": [
        "# dataset.head(7)\n",
        "\n",
        "clean_data=[normalized_age, normalized_distance, normalized_education, normalized_height, normalized_weight, normalized_BMI, normalized_salary,normalized_siblings]\n",
        "normalized_data = pd.DataFrame(data=clean_data, index=None, columns=[\"Age\", \"Distance\",\"Education\",\"Height\",\"Weight\",\"BMI\",\"Salary\"])\n",
        "\n",
        "\n",
        "normalized_data.head(7)"
      ],
      "execution_count": 211,
      "outputs": [
        {
          "output_type": "execute_result",
          "data": {
            "text/html": [
              "<div>\n",
              "<style scoped>\n",
              "    .dataframe tbody tr th:only-of-type {\n",
              "        vertical-align: middle;\n",
              "    }\n",
              "\n",
              "    .dataframe tbody tr th {\n",
              "        vertical-align: top;\n",
              "    }\n",
              "\n",
              "    .dataframe thead th {\n",
              "        text-align: right;\n",
              "    }\n",
              "</style>\n",
              "<table border=\"1\" class=\"dataframe\">\n",
              "  <thead>\n",
              "    <tr style=\"text-align: right;\">\n",
              "      <th></th>\n",
              "      <th>Age</th>\n",
              "      <th>Distance</th>\n",
              "      <th>Education</th>\n",
              "      <th>Height</th>\n",
              "      <th>Weight</th>\n",
              "      <th>BMI</th>\n",
              "      <th>Salary</th>\n",
              "    </tr>\n",
              "  </thead>\n",
              "  <tbody>\n",
              "    <tr>\n",
              "      <th>0</th>\n",
              "      <td>0.136364</td>\n",
              "      <td>0.000000</td>\n",
              "      <td>0.909091</td>\n",
              "      <td>0.045455</td>\n",
              "      <td>1.000000</td>\n",
              "      <td>0.181818</td>\n",
              "      <td>0.681818</td>\n",
              "    </tr>\n",
              "    <tr>\n",
              "      <th>1</th>\n",
              "      <td>1.000000</td>\n",
              "      <td>0.298246</td>\n",
              "      <td>0.649123</td>\n",
              "      <td>0.824561</td>\n",
              "      <td>0.561404</td>\n",
              "      <td>0.000000</td>\n",
              "      <td>0.210526</td>\n",
              "    </tr>\n",
              "    <tr>\n",
              "      <th>2</th>\n",
              "      <td>0.333333</td>\n",
              "      <td>0.000000</td>\n",
              "      <td>0.666667</td>\n",
              "      <td>0.000000</td>\n",
              "      <td>1.000000</td>\n",
              "      <td>0.333333</td>\n",
              "      <td>0.666667</td>\n",
              "    </tr>\n",
              "    <tr>\n",
              "      <th>3</th>\n",
              "      <td>0.902778</td>\n",
              "      <td>1.000000</td>\n",
              "      <td>0.805556</td>\n",
              "      <td>0.000000</td>\n",
              "      <td>0.944444</td>\n",
              "      <td>0.944444</td>\n",
              "      <td>0.875000</td>\n",
              "    </tr>\n",
              "    <tr>\n",
              "      <th>4</th>\n",
              "      <td>0.500000</td>\n",
              "      <td>0.937500</td>\n",
              "      <td>0.000000</td>\n",
              "      <td>0.375000</td>\n",
              "      <td>1.000000</td>\n",
              "      <td>0.687500</td>\n",
              "      <td>0.000000</td>\n",
              "    </tr>\n",
              "    <tr>\n",
              "      <th>5</th>\n",
              "      <td>0.851229</td>\n",
              "      <td>0.867198</td>\n",
              "      <td>0.763641</td>\n",
              "      <td>0.000000</td>\n",
              "      <td>1.000000</td>\n",
              "      <td>0.861111</td>\n",
              "      <td>0.647238</td>\n",
              "    </tr>\n",
              "    <tr>\n",
              "      <th>6</th>\n",
              "      <td>0.020202</td>\n",
              "      <td>0.000000</td>\n",
              "      <td>0.027778</td>\n",
              "      <td>1.000000</td>\n",
              "      <td>0.030303</td>\n",
              "      <td>0.040404</td>\n",
              "      <td>0.015152</td>\n",
              "    </tr>\n",
              "  </tbody>\n",
              "</table>\n",
              "</div>"
            ],
            "text/plain": [
              "        Age  Distance  Education    Height    Weight       BMI    Salary\n",
              "0  0.136364  0.000000   0.909091  0.045455  1.000000  0.181818  0.681818\n",
              "1  1.000000  0.298246   0.649123  0.824561  0.561404  0.000000  0.210526\n",
              "2  0.333333  0.000000   0.666667  0.000000  1.000000  0.333333  0.666667\n",
              "3  0.902778  1.000000   0.805556  0.000000  0.944444  0.944444  0.875000\n",
              "4  0.500000  0.937500   0.000000  0.375000  1.000000  0.687500  0.000000\n",
              "5  0.851229  0.867198   0.763641  0.000000  1.000000  0.861111  0.647238\n",
              "6  0.020202  0.000000   0.027778  1.000000  0.030303  0.040404  0.015152"
            ]
          },
          "metadata": {
            "tags": []
          },
          "execution_count": 211
        }
      ]
    },
    {
      "cell_type": "code",
      "metadata": {
        "id": "EU2ujh0bOyUz",
        "colab_type": "code",
        "colab": {
          "base_uri": "https://localhost:8080/",
          "height": 323
        },
        "outputId": "4a8dcebf-8447-4d90-c9fd-6e6eb8c6fada"
      },
      "source": [
        "print(normalized_data.describe())\n",
        "print('============================')\n",
        "print(normalized_data.dtypes)"
      ],
      "execution_count": 212,
      "outputs": [
        {
          "output_type": "stream",
          "text": [
            "            Age  Distance  Education    Height    Weight       BMI    Salary\n",
            "count  8.000000  8.000000   8.000000  8.000000  8.000000  8.000000  8.000000\n",
            "mean   0.467988  0.429535   0.498565  0.405627  0.692019  0.401910  0.470383\n",
            "std    0.408413  0.439968   0.371162  0.463885  0.443516  0.375589  0.340750\n",
            "min    0.000000  0.000000   0.000000  0.000000  0.000000  0.000000  0.000000\n",
            "25%    0.107323  0.000000   0.131944  0.000000  0.428628  0.135101  0.161683\n",
            "50%    0.416667  0.315789   0.657895  0.210227  0.972222  0.257576  0.656952\n",
            "75%    0.864117  0.884774   0.774120  0.868421  1.000000  0.730903  0.670455\n",
            "max    1.000000  1.000000   0.909091  1.000000  1.000000  0.944444  0.875000\n",
            "============================\n",
            "Age          float64\n",
            "Distance     float64\n",
            "Education    float64\n",
            "Height       float64\n",
            "Weight       float64\n",
            "BMI          float64\n",
            "Salary       float64\n",
            "dtype: object\n"
          ],
          "name": "stdout"
        }
      ]
    },
    {
      "cell_type": "code",
      "metadata": {
        "id": "S4H1COuxrGE_",
        "colab_type": "code",
        "colab": {}
      },
      "source": [
        ""
      ],
      "execution_count": 0,
      "outputs": []
    }
  ]
}