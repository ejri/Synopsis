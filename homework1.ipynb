{
  "nbformat": 4,
  "nbformat_minor": 0,
  "metadata": {
    "kernelspec": {
      "display_name": "Python 3",
      "language": "python",
      "name": "python3"
    },
    "language_info": {
      "codemirror_mode": {
        "name": "ipython",
        "version": 3
      },
      "file_extension": ".py",
      "mimetype": "text/x-python",
      "name": "python",
      "nbconvert_exporter": "python",
      "pygments_lexer": "ipython3",
      "version": "3.6.5"
    },
    "colab": {
      "name": "Immunie System.ipynb",
      "provenance": [],
      "collapsed_sections": [],
      "include_colab_link": true
    }
  },
  "cells": [
    {
      "cell_type": "markdown",
      "metadata": {
        "id": "view-in-github",
        "colab_type": "text"
      },
      "source": [
        "<a href=\"https://colab.research.google.com/github/ejri/Synopsis/blob/cohort2/homework1.ipynb\" target=\"_parent\"><img src=\"https://colab.research.google.com/assets/colab-badge.svg\" alt=\"Open In Colab\"/></a>"
      ]
    },
    {
      "cell_type": "markdown",
      "metadata": {
        "id": "J4ASfPJN81in",
        "colab_type": "text"
      },
      "source": [
        "# The Immune System Challenge"
      ]
    },
    {
      "cell_type": "markdown",
      "metadata": {
        "id": "i2dPiD_g-76h",
        "colab_type": "text"
      },
      "source": [
        "A group of immunologists want to explore the Compliment System in the human body. They have access to a supercomputer and they plan to interatively simulate different Compliment System configurations."
      ]
    },
    {
      "cell_type": "code",
      "metadata": {
        "id": "NACiMTWF81jE",
        "colab_type": "code",
        "colab": {}
      },
      "source": [
        "compliment_system = ['C3b', 'C3a', 'Bb', 'Ba', 'C4b', 'C4a', 'C2b', 'C2a', 'D', 'P', 'C1q', 'C1r', 'C1s', 'MBL', 'MASP-1', 'MASP-2', 'C5b', 'C5a', 'C6', 'C7', 'C8', 'C9', 'C1INH', 'MCP', 'DAF', 'H', 'C4bp', 'CD59', 'CR1', 'CR2', 'CR3', 'CR4']\n",
        "\n",
        "compression1 = {\n",
        "    'detectors': [1,2],\n",
        "    'responders': [4,22],\n",
        "    'activators': [5,23,31],\n",
        "    'enablers': [1,9,10],\n",
        "    'catalyzer': [12,29],\n",
        "    'upgraders': [23,24,25],\n",
        "    'chains': [27],\n",
        "    'trappers': [13],\n",
        "    'finishers': [16]\n",
        "}"
      ],
      "execution_count": 0,
      "outputs": []
    },
    {
      "cell_type": "markdown",
      "metadata": {
        "id": "UJ4w2mUAC3U6",
        "colab_type": "text"
      },
      "source": [
        "The following code has been made for this purpose:"
      ]
    },
    {
      "cell_type": "code",
      "metadata": {
        "id": "BlsCOiem81jj",
        "colab_type": "code",
        "colab": {}
      },
      "source": [
        "def expand(array, pair):\n",
        "    \"\"\" \n",
        "      Take in an list of dictionaries and outputs an expanded list based on a [key, value] pair\n",
        "      :param list array: list of all dictionaries such as [{'detectors': 1, ...}, {'detectors': 2, ...}]\n",
        "      :param list pair: the pair such as ['responders', [4,22]]\n",
        "      :returns output: an expanded list\n",
        "      :rtype list:\n",
        "    \"\"\"\n",
        "    output = [];\n",
        "    for candidate in array: #go into the previously expanded list\n",
        "        for option_index in pair[1]: #go into each item of the vlaue (the list of indexes)\n",
        "            candidate[pair[0]] = compliment_system[option_index] #change the list into a single value\n",
        "            output.append(candidate.copy()) #put it in the output\n",
        "    return output #so out1 can keep expanding\n",
        "\n",
        "def process(in1):\n",
        "    \"\"\"\n",
        "      Go over items in a dictionary and calls expands for each to individualize the values.\n",
        "      :param dict in1:\n",
        "      :returns out1: individulized items of the dictionary.\n",
        "      :rtype list:\n",
        "    \"\"\"\n",
        "    out1 = [in1] #make an output value which is a list\n",
        "    for k,v in in1.items(): # [('detectors', [1,2])...]\n",
        "        out1 = expand(out1, [k,v]) # Is calling expand for every [key, pair] set\n",
        "    return out1"
      ],
      "execution_count": 0,
      "outputs": []
    },
    {
      "cell_type": "code",
      "metadata": {
        "id": "sTYeuJz5GL2z",
        "colab_type": "code",
        "colab": {}
      },
      "source": [
        "process(compression1.copy()) #this is how the output looks like"
      ],
      "execution_count": 0,
      "outputs": []
    },
    {
      "cell_type": "markdown",
      "metadata": {
        "id": "8GLnX3NXB_yN",
        "colab_type": "text"
      },
      "source": [
        "The scientists want to perform a more comprehensive test, but the size of the test soon proves to be an issue. The first tiem they try `compression2` they quickly run out of ram. \n",
        "\n",
        "Even with buying lost of ram and significantly reducing the size of the lists, there is a chance that there is a failure as the individualized files are being sent to the supercomputer. They have no way of finding out what was the last successful run to progress from there."
      ]
    },
    {
      "cell_type": "code",
      "metadata": {
        "id": "A-aHh3jL81kV",
        "colab_type": "code",
        "colab": {}
      },
      "source": [
        "compression2 = {\n",
        "    'detectors': [0 ,1 ,2 ,3 ,4 ,5 ,6 ,7 ,8 ,10 ,11 ,12 ,13 ,14 ,15 ,16 ,17 ,18 ,21 ,22 ,23 ,24 ,25 ,26 ,27 ,28 ,29 ,30, 31],\n",
        "    'responders': [0 ,1 ,2 ,3 ,4 ,5 ,6 ,7 ,8 ,9 ,10 ,11 ,12 ,13 ,14 ,15 ,16 ,17 ,18 ,19 ,20 ,21 ,22 ,23 ,24 ,25 ,26 ,27 ,28 ,29 ,30, 31],\n",
        "    'activators': [0 ,1 ,2 ,3 ,4 ,5 ,6 ,7 ,8 ,9 ,10 ,11 ,12 ,13 ,14 ,15 ,16 ,17 ,18 ,19 ,20 ,21 ,22 ,24 ,25 ,26 ,27 ,28 ,29 ,30, 31],\n",
        "    'enablers': [0 ,1 ,2 ,3 ,4 ,5 ,6 ,7 ,8 ,9 ,10 ,11 ,12 ,13 ,14 ,15 ,16 ,17 ,18 ,19 ,20 ,21 ,22 ,23 ,24 ,25 ,26 ,27 ,28 ,29 ,30, 31],\n",
        "    'catalyzer': [0 ,1 ,5 ,6 ,7 ,8 ,9 ,10 ,11 ,12 ,13 ,14 ,15 ,16 ,17 ,18 ,19 ,20 ,21 ,22 ,23 ,24 ,25 ,26 ,27 ,28 ,29 ,30, 31],\n",
        "    'upgraders': [0 ,1 ,2 ,3 ,4 ,5 ,6 ,7 ,8 ,9 ,10 ,11 ,12 ,13 ,14 ,15 ,16 ,17 ,18 ,19 ,20 ,21 ,22 ,23 ,24 ,25 ,26 ,27 ,28 ,29 ,30, 31],\n",
        "    'chains': [0 ,1 ,3 ,4 ,5 ,6 ,7 ,8 ,9 ,10 ,11 ,12 ,14 ,15 ,16 ,17 ,18 ,19 ,20 ,22 ,23 ,24 ,25 ,26 ,27 ,28 ,29 ,30, 31],\n",
        "    'trappers': [0 ,1 ,2 ,3 ,4 ,5 ,7 ,8 ,9 ,10 ,11 ,12 ,13 ,14 ,15 ,16 ,17 ,18 ,19 ,20 ,21 ,22 ,23 ,24 ,25 ,26 ,27 ,28 ,29 ,30, 31],\n",
        "    'finishers': [0 ,1 ,3 ,4 ,5 ,6 ,7 ,8 ,9 ,10 ,11 ,12 ,13 ,14 ,15 ,16 ,17 ,18 ,19 ,20 ,21 ,22 ,23 ,24 ,25 ,26 ,27 ,28 ,29 ,30, 31]\n",
        "}"
      ],
      "execution_count": 0,
      "outputs": []
    },
    {
      "cell_type": "code",
      "metadata": {
        "scrolled": true,
        "id": "qOnIHLip81j1",
        "colab_type": "code",
        "outputId": "09ea8b2f-e6d3-44a6-dc20-0579c197b9c5",
        "colab": {
          "base_uri": "https://localhost:8080/",
          "height": 34
        }
      },
      "source": [
        "len(process(compression1.copy())) #this is pretty fast because we only have 216 values...."
      ],
      "execution_count": 0,
      "outputs": [
        {
          "output_type": "execute_result",
          "data": {
            "text/plain": [
              "216"
            ]
          },
          "metadata": {
            "tags": []
          },
          "execution_count": 6
        }
      ]
    },
    {
      "cell_type": "code",
      "metadata": {
        "id": "nCAMW_-U81kz",
        "colab_type": "code",
        "colab": {}
      },
      "source": [
        "# However, the below command will crash if uncommented\n",
        "# done = process([compression2.copy()])\n",
        "32**9 #Impossible to do this in one go"
      ],
      "execution_count": 0,
      "outputs": []
    },
    {
      "cell_type": "markdown",
      "metadata": {
        "id": "XSgpK9nJECQK",
        "colab_type": "text"
      },
      "source": [
        "**Homework: Create a function called `bigDataProcess` that makes the same output as `process` but does two things:**\n",
        "\n",
        "\n",
        "1.   Can give you only a small batch of the total results everytime you call it. For example, it can give you the first 1000 (or any RAM-friendly number) upon request, then another 1000 with another request.\n",
        "2.   Can tell you which was the last batch or individualized dictionary that was processed; in case there was a failure.\n",
        "\n",
        "Make sure you use a docstring of your choice to explain your code. Use a debugger in case of any issues.\n",
        "\n"
      ]
    },
    {
      "cell_type": "code",
      "metadata": {
        "id": "HiG8xL6YFDDr",
        "colab_type": "code",
        "colab": {}
      },
      "source": [
        ""
      ],
      "execution_count": 0,
      "outputs": []
    }
  ]
}